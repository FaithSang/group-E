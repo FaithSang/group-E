{
  "nbformat": 4,
  "nbformat_minor": 0,
  "metadata": {
    "colab": {
      "name": "MNIST digits classification.ipynb",
      "provenance": [],
      "collapsed_sections": []
    },
    "kernelspec": {
      "name": "python3",
      "display_name": "Python 3"
    },
    "language_info": {
      "name": "python"
    }
  },
  "cells": [
    {
      "cell_type": "markdown",
      "source": [
        "#imports"
      ],
      "metadata": {
        "id": "0Vs_cxMOb_gI"
      }
    },
    {
      "cell_type": "code",
      "source": [
        "#Done by Gudah\n",
        "import numpy as np\n",
        "import matplotlib.pyplot as plt\n",
        "%matplotlib inline\n",
        "import keras\n",
        "from keras.models import Sequential\n",
        "from keras.layers import Dense,Dropout\n",
        "from sklearn.metrics import confusion_matrix\n",
        "import seaborn as sns\n",
        "from keras import utils as np_utils\n",
        "from matplotlib.colors import LogNorm\n",
        "from functools import cmp_to_key\n",
        "\n",
        "np.random.seed(0)  # to have constant results all the time"
      ],
      "metadata": {
        "id": "1iX2-mvIcFAl"
      },
      "execution_count": null,
      "outputs": []
    },
    {
      "cell_type": "markdown",
      "source": [
        "#Data"
      ],
      "metadata": {
        "id": "7bdG9N5Peb2J"
      }
    },
    {
      "cell_type": "code",
      "source": [
        "#done by Faith Sang\n",
        "from keras.datasets import mnist\n",
        "(x_train, y_train),(x_test, y_test) = mnist.load_data()\n",
        "#loads and downloads data from the keras data set"
      ],
      "metadata": {
        "id": "II1hre1FeTA8",
        "colab": {
          "base_uri": "https://localhost:8080/"
        },
        "outputId": "152b51f8-5fe7-41b6-c1ee-23061368c32a"
      },
      "execution_count": null,
      "outputs": [
        {
          "output_type": "stream",
          "name": "stdout",
          "text": [
            "Downloading data from https://storage.googleapis.com/tensorflow/tf-keras-datasets/mnist.npz\n",
            "11493376/11490434 [==============================] - 0s 0us/step\n",
            "11501568/11490434 [==============================] - 0s 0us/step\n"
          ]
        }
      ]
    },
    {
      "cell_type": "code",
      "source": [
        "#print how much data we have here\n",
        "print(x_train.shape, y_train.shape)\n",
        "print(x_test.shape, y_test.shape)\n",
        "#output we have 60000 images of 28 by 28 size of 60000 labels for the train data\n",
        "#ouput we have 10000 images of 28 by 28 size of 60000 labels for the test data"
      ],
      "metadata": {
        "colab": {
          "base_uri": "https://localhost:8080/"
        },
        "id": "h52vOQPafp5U",
        "outputId": "3d03aa78-bab2-4300-8a39-abd78f5f316d"
      },
      "execution_count": null,
      "outputs": [
        {
          "output_type": "stream",
          "name": "stdout",
          "text": [
            "(60000, 28, 28) (60000,)\n",
            "(10000, 28, 28) (10000,)\n"
          ]
        }
      ]
    },
    {
      "cell_type": "markdown",
      "source": [
        "#Visualize examples"
      ],
      "metadata": {
        "id": "bQPI58NzkaLX"
      }
    },
    {
      "cell_type": "code",
      "source": [
        "#Done by Samuel Muthebwa\n",
        "num_classes= 10\n",
        "f, ax= plt.subplots(1, num_classes, figsize=(20,20))\n",
        "\n",
        "for i in range(0, num_classes):\n",
        "  sample= x_train[y_train == i][0]\n",
        "  ax[i].imshow(sample, cmap='gray')\n",
        " #ax[i].set_title(\"Label: {}\". format(i), fontsize=16)"
      ],
      "metadata": {
        "colab": {
          "base_uri": "https://localhost:8080/",
          "height": 145
        },
        "id": "eg_lx9rogsf0",
        "outputId": "24d73fa1-5cb6-434b-a4c1-761f05469926"
      },
      "execution_count": null,
      "outputs": [
        {
          "output_type": "display_data",
          "data": {
            "text/plain": [
              "<Figure size 1440x1440 with 10 Axes>"
            ],
            "image/png": "[encoded data removed]"
          },
          "metadata": {
            "needs_background": "light"
          }
        }
      ]
    },
    {
      "cell_type": "code",
      "source": [
        "#printing the labels\n",
        "for i in range(10):\n",
        "  print(y_train[i])"
      ],
      "metadata": {
        "colab": {
          "base_uri": "https://localhost:8080/"
        },
        "id": "vhee-DUUoA1w",
        "outputId": "abba82ff-13d7-4b70-8167-51d04ff3774c"
      },
      "execution_count": null,
      "outputs": [
        {
          "output_type": "stream",
          "name": "stdout",
          "text": [
            "5\n",
            "0\n",
            "4\n",
            "1\n",
            "9\n",
            "2\n",
            "1\n",
            "3\n",
            "1\n",
            "4\n"
          ]
        }
      ]
    },
    {
      "cell_type": "code",
      "source": [
        "y_train= keras.utils.np_utils.to_categorical(y_train, num_classes)\n",
        "y_test= keras.utils.np_utils.to_categorical(y_test, num_classes)"
      ],
      "metadata": {
        "id": "CsoAs5DPuKyx"
      },
      "execution_count": null,
      "outputs": []
    },
    {
      "cell_type": "code",
      "source": [
        "for i in range(10):\n",
        "  print(y_train[i])\n",
        "  #output is a vector of size ten and fill the vector with 0 except where the number is filled with 1"
      ],
      "metadata": {
        "id": "iUYs6pWAwXAx",
        "colab": {
          "base_uri": "https://localhost:8080/"
        },
        "outputId": "3a5f1f8b-7c3e-4587-c50a-4fd7a7192c7d"
      },
      "execution_count": null,
      "outputs": [
        {
          "output_type": "stream",
          "name": "stdout",
          "text": [
            "[0. 0. 0. 0. 0. 1. 0. 0. 0. 0.]\n",
            "[1. 0. 0. 0. 0. 0. 0. 0. 0. 0.]\n",
            "[0. 0. 0. 0. 1. 0. 0. 0. 0. 0.]\n",
            "[0. 1. 0. 0. 0. 0. 0. 0. 0. 0.]\n",
            "[0. 0. 0. 0. 0. 0. 0. 0. 0. 1.]\n",
            "[0. 0. 1. 0. 0. 0. 0. 0. 0. 0.]\n",
            "[0. 1. 0. 0. 0. 0. 0. 0. 0. 0.]\n",
            "[0. 0. 0. 1. 0. 0. 0. 0. 0. 0.]\n",
            "[0. 1. 0. 0. 0. 0. 0. 0. 0. 0.]\n",
            "[0. 0. 0. 0. 1. 0. 0. 0. 0. 0.]\n"
          ]
        }
      ]
    },
    {
      "cell_type": "markdown",
      "source": [
        "#Prepare Data"
      ],
      "metadata": {
        "id": "nV0hQ6wxw9aU"
      }
    },
    {
      "cell_type": "code",
      "source": [
        "#Done by Faith Sang\n",
        "#normalize data\n",
        "x_train=x_train/255.0\n",
        "x_test=x_test/255.0"
      ],
      "metadata": {
        "id": "SoGAl0-zw_h2"
      },
      "execution_count": null,
      "outputs": []
    },
    {
      "cell_type": "code",
      "source": [
        "#Reshape data\n",
        "x_train=x_train.reshape(x_train.shape[0], -1) #-1 makes in in 1 dimension\n",
        "x_test=x_test.reshape(x_test.shape[0], -1) #-1 makes in in 1 dimension\n",
        "print(x_train.shape)\n",
        "#output is 60000 images and 728 in 1D in staed of the prvious 2D"
      ],
      "metadata": {
        "colab": {
          "base_uri": "https://localhost:8080/"
        },
        "id": "RiSDTBbDxpM1",
        "outputId": "20132265-572c-4dfc-abb6-3686fffbd702"
      },
      "execution_count": null,
      "outputs": [
        {
          "output_type": "stream",
          "name": "stdout",
          "text": [
            "(60000, 784)\n"
          ]
        }
      ]
    },
    {
      "cell_type": "markdown",
      "source": [
        "#Create Model-Fully connected Neural Network"
      ],
      "metadata": {
        "id": "X54C8z73yzKG"
      }
    },
    {
      "cell_type": "code",
      "source": [
        "#model where you can keep adding layer after layer\n",
        "model= Sequential()\n",
        "\n",
        "model.add(Dense(units=128, input_shape=(784,), activation='relu') )\n",
        "model.add(Dense(units=128, activation='relu'))\n",
        "model.add(Dropout(0.25)) #25% of the neural are going to be activated during training\n",
        "model.add(Dense(units=10, activation='softmax')) \n",
        "\n",
        "model.compile(loss='categorical_crossentropy', optimizer='adam', metrics=['accuracy'])\n",
        "model.summary()"
      ],
      "metadata": {
        "id": "dxtmNn0OyhoJ",
        "colab": {
          "base_uri": "https://localhost:8080/"
        },
        "outputId": "d02bf089-eeac-4fb1-84cb-f392d52c0d01"
      },
      "execution_count": null,
      "outputs": [
        {
          "output_type": "stream",
          "name": "stdout",
          "text": [
            "Model: \"sequential\"\n",
            "_________________________________________________________________\n",
            " Layer (type)                Output Shape              Param #   \n",
            "=================================================================\n",
            " dense (Dense)               (None, 128)               100480    \n",
            "                                                                 \n",
            " dense_1 (Dense)             (None, 128)               16512     \n",
            "                                                                 \n",
            " dropout (Dropout)           (None, 128)               0         \n",
            "                                                                 \n",
            " dense_2 (Dense)             (None, 10)                1290      \n",
            "                                                                 \n",
            "=================================================================\n",
            "Total params: 118,282\n",
            "Trainable params: 118,282\n",
            "Non-trainable params: 0\n",
            "_________________________________________________________________\n"
          ]
        }
      ]
    },
    {
      "cell_type": "markdown",
      "source": [
        "#Train"
      ],
      "metadata": {
        "id": "rDuwArByyH__"
      }
    },
    {
      "cell_type": "code",
      "source": [
        "batch_size= 512\n",
        "epochs= 10\n",
        "model.fit(x=x_train, y=y_train, batch_size=batch_size, epochs=epochs )\n",
        "#expected ouput is for loss to reduce while accuracy increases in every iteration"
      ],
      "metadata": {
        "id": "EtaSH3jJ2CP9",
        "colab": {
          "base_uri": "https://localhost:8080/"
        },
        "outputId": "6f8f60cf-5a8a-4e92-950b-d4aafdb1f218"
      },
      "execution_count": null,
      "outputs": [
        {
          "output_type": "stream",
          "name": "stdout",
          "text": [
            "Epoch 1/10\n",
            "118/118 [==============================] - 2s 10ms/step - loss: 0.5965 - accuracy: 0.8312\n",
            "Epoch 2/10\n",
            "118/118 [==============================] - 1s 10ms/step - loss: 0.2175 - accuracy: 0.9366\n",
            "Epoch 3/10\n",
            "118/118 [==============================] - 1s 10ms/step - loss: 0.1615 - accuracy: 0.9530\n",
            "Epoch 4/10\n",
            "118/118 [==============================] - 1s 11ms/step - loss: 0.1287 - accuracy: 0.9615\n",
            "Epoch 5/10\n",
            "118/118 [==============================] - 1s 10ms/step - loss: 0.1053 - accuracy: 0.9685\n",
            "Epoch 6/10\n",
            "118/118 [==============================] - 1s 10ms/step - loss: 0.0919 - accuracy: 0.9722\n",
            "Epoch 7/10\n",
            "118/118 [==============================] - 1s 10ms/step - loss: 0.0782 - accuracy: 0.9766\n",
            "Epoch 8/10\n",
            "118/118 [==============================] - 1s 10ms/step - loss: 0.0670 - accuracy: 0.9795\n",
            "Epoch 9/10\n",
            "118/118 [==============================] - 1s 12ms/step - loss: 0.0596 - accuracy: 0.9825\n",
            "Epoch 10/10\n",
            "118/118 [==============================] - 1s 11ms/step - loss: 0.0510 - accuracy: 0.9850\n"
          ]
        },
        {
          "output_type": "execute_result",
          "data": {
            "text/plain": [
              "<keras.callbacks.History at 0x7fde73d1b710>"
            ]
          },
          "metadata": {},
          "execution_count": 16
        }
      ]
    },
    {
      "cell_type": "markdown",
      "source": [
        "#Evaluate"
      ],
      "metadata": {
        "id": "sWPhWbKw1nWu"
      }
    },
    {
      "cell_type": "code",
      "source": [
        "#Done by Felix Obuya\n",
        "#check perfomance on that data(test)  i.e Data that the network hasn't seen before\n",
        "test_loss, test_accuracy= model.evaluate(x_test, y_test)\n",
        "print(\"test loss: {}, test accuracy: {} \".format(test_loss, test_accuracy))"
      ],
      "metadata": {
        "id": "PZ0AQQwX1pAS",
        "colab": {
          "base_uri": "https://localhost:8080/"
        },
        "outputId": "921a2133-74ab-4205-ed92-6047d9a31e2e"
      },
      "execution_count": null,
      "outputs": [
        {
          "output_type": "stream",
          "name": "stdout",
          "text": [
            "313/313 [==============================] - 1s 2ms/step - loss: 0.0741 - accuracy: 0.9768\n",
            "test loss: 0.07407403737306595, test accuracy: 0.9768000245094299 \n"
          ]
        }
      ]
    },
    {
      "cell_type": "markdown",
      "source": [
        "#Predict a classification on some input image"
      ],
      "metadata": {
        "id": "27TT5GZK3DFo"
      }
    },
    {
      "cell_type": "code",
      "source": [
        "y_pred= model.predict(x_test) #gives an array of all the predictions\n",
        "y_pred_classes= np.argmax(y_pred, axis=1) #pick the highest probability and return the index\n",
        "print(y_pred) #probability of every element of every single class\n",
        "print(y_pred_classes) #the number of the classification\n"
      ],
      "metadata": {
        "colab": {
          "base_uri": "https://localhost:8080/"
        },
        "id": "WzoSnJ3-2oMZ",
        "outputId": "3c02d73e-928b-47f8-d76f-cdd90d9b33bd"
      },
      "execution_count": null,
      "outputs": [
        {
          "output_type": "stream",
          "name": "stdout",
          "text": [
            "[[5.18267598e-07 1.28572765e-06 1.66827303e-05 ... 9.99547422e-01\n",
            "  9.05521688e-07 2.40282188e-05]\n",
            " [1.70178140e-07 1.58034964e-04 9.99813974e-01 ... 1.18225024e-07\n",
            "  3.14463068e-06 1.31682110e-10]\n",
            " [5.85295993e-07 9.98876750e-01 2.13306965e-04 ... 7.17335904e-04\n",
            "  4.19475509e-05 3.38449013e-06]\n",
            " ...\n",
            " [1.49095747e-09 3.73532760e-09 1.47770229e-09 ... 5.92373794e-07\n",
            "  1.39768289e-07 3.50587311e-06]\n",
            " [7.54030260e-09 1.42212304e-08 4.97194563e-10 ... 2.41151965e-09\n",
            "  1.21463818e-05 3.35611122e-10]\n",
            " [7.07557524e-09 7.92390209e-10 2.86146395e-09 ... 4.84477042e-11\n",
            "  3.90401544e-10 1.50989943e-10]]\n",
            "[7 2 1 ... 4 5 6]\n"
          ]
        }
      ]
    },
    {
      "cell_type": "markdown",
      "source": [
        "#pick a random element from a test data data and make a prediction"
      ],
      "metadata": {
        "id": "UQhd8VFJ4jQ_"
      }
    },
    {
      "cell_type": "code",
      "source": [
        "# single example\n",
        "random_idx= np.random.choice(len(x_test))\n",
        "x_sample= x_test[random_idx]\n",
        "y_true= np.argmax(y_test, axis=1)\n",
        "y_sample_true= y_true[random_idx]\n",
        "y_sample_pred_class= y_pred_classes[random_idx]\n",
        "\n",
        "plt.title(\"Predicted: {}, True: {}\".format(y_sample_pred_class, y_sample_true), fontsize=16)\n",
        "plt.imshow(x_sample.reshape(28, 28), cmap='gray')"
      ],
      "metadata": {
        "id": "1JKBKcWn4oWE",
        "colab": {
          "base_uri": "https://localhost:8080/",
          "height": 300
        },
        "outputId": "fe5f8623-3b77-4ac2-9744-7a449afda378"
      },
      "execution_count": null,
      "outputs": [
        {
          "output_type": "execute_result",
          "data": {
            "text/plain": [
              "<matplotlib.image.AxesImage at 0x7fde7059fd10>"
            ]
          },
          "metadata": {},
          "execution_count": 19
        },
        {
          "output_type": "display_data",
          "data": {
            "text/plain": [
              "<Figure size 432x288 with 1 Axes>"
            ],
            "image/png": "[encoded data removed]"
          },
          "metadata": {
            "needs_background": "light"
          }
        }
      ]
    },
    {
      "cell_type": "markdown",
      "source": [
        "#Confusion matrix(predict how accurate your neural is for every class)"
      ],
      "metadata": {
        "id": "vp1wlbG47wm2"
      }
    },
    {
      "cell_type": "code",
      "source": [
        "#Done by Fransicah Mwende\n",
        "confusion_mtx=confusion_matrix(y_true, y_pred_classes)\n",
        "\n",
        "#plot\n",
        "fig, ax= plt.subplots(figsize=(15,10))\n",
        "ax= sns.heatmap(confusion_mtx, annot=True, fmt='d', ax=ax, cmap='Blues' )\n",
        "ax.set_xlabel('Predicted label')\n",
        "ax.set_ylabel('True label')\n",
        "ax.set_title('Confusion matrix');\n",
        "# every column and row is a class for a digit"
      ],
      "metadata": {
        "id": "UZDq8v0c8HCD",
        "colab": {
          "base_uri": "https://localhost:8080/",
          "height": 621
        },
        "outputId": "0721b137-84fc-4cc5-f714-074594ddb558"
      },
      "execution_count": null,
      "outputs": [
        {
          "output_type": "display_data",
          "data": {
            "text/plain": [
              "<Figure size 1080x720 with 2 Axes>"
            ],
            "image/png": "[encoded data removed]"
          },
          "metadata": {
            "needs_background": "light"
          }
        }
      ]
    },
    {
      "cell_type": "markdown",
      "source": [
        "#Investigate some errors"
      ],
      "metadata": {
        "id": "UJPOa6yM-pF1"
      }
    },
    {
      "cell_type": "code",
      "source": [
        "errors=(y_pred_classes- y_true !=0)\n",
        "y_pred_classes_errors= y_pred_classes[errors]\n",
        "y_pred_errors= y_pred[errors]\n",
        "y_true_errors= y_true[errors]\n",
        "x_test_errors= x_test[errors]"
      ],
      "metadata": {
        "id": "mck2WIo6-BOl"
      },
      "execution_count": null,
      "outputs": []
    },
    {
      "cell_type": "code",
      "source": [
        "#find errors with the maximum probability\n",
        "y_pred_errors_probability = np.max(y_pred_errors, axis=1)\n",
        "true_probability_errors = np.diagonal(np.take(y_pred_errors, y_true_errors, axis=1))\n",
        "diff_errors_pred_true = y_pred_errors_probability - true_probability_errors\n",
        "\n",
        "#Get list of indices when sorted diffrences\n",
        "sorted_idx_diff_errors= np.argsort(diff_errors_pred_true)\n",
        "top_idx_diff_errors= sorted_idx_diff_errors[-5 :] #picks the five last ones\n",
        "#picks the values in which the neural has the least confidence about\n"
      ],
      "metadata": {
        "id": "_jsgXG9cABbl"
      },
      "execution_count": null,
      "outputs": []
    },
    {
      "cell_type": "code",
      "source": [
        "#show top erros\n",
        "num=len(top_idx_diff_errors)\n",
        "f, ax= plt.subplots(1, num, figsize=(30,30))\n",
        "\n",
        "for i in range(0, num):\n",
        "  idx=top_idx_diff_errors[i]\n",
        "  sample=x_test_errors[idx].reshape(28,28)\n",
        "  y_t= y_true_errors[idx]\n",
        "  y_p= y_pred_classes_errors[idx]\n",
        "  ax[i].imshow(sample, cmap='gray')\n",
        "  ax[i].set_title(\"Predictel Label: {} \\n True label: {}\".format(y_p, y_t), fontsize=22)"
      ],
      "metadata": {
        "id": "hp36N_T7CSrI",
        "colab": {
          "base_uri": "https://localhost:8080/",
          "height": 283
        },
        "outputId": "544253ba-3e94-44e6-892e-2bb9c371004e"
      },
      "execution_count": null,
      "outputs": [
        {
          "output_type": "display_data",
          "data": {
            "text/plain": [
              "<Figure size 2160x2160 with 5 Axes>"
            ],
            "image/png": "[encoded data removed]"
          },
          "metadata": {
            "needs_background": "light"
          }
        }
      ]
    }
  ]
}